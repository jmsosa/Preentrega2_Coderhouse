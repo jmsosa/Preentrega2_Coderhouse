{
 "cells": [
  {
   "cell_type": "code",
   "execution_count": null,
   "id": "0397da23-c16f-41f7-ab4d-e7a739463841",
   "metadata": {},
   "outputs": [
    {
     "name": "stdout",
     "output_type": "stream",
     "text": [
      "Ingresa el texto:  El ciclo lectivo de 2025 implementará un nuevo método de enseñanza en la escuela primaria de la Ciudad de Buenos Aires, basado en grados en lugar de ciclos. Los padres recibirán una guía con los contenidos de las asignaturas de Matemática y Lengua, que ahora se enfocará en la alfabetización. En Lengua, los alumnos aprenderán a leer, escribir, comprender textos y mejorar su vocabulario. En Matemática, se enfocarán en reconocer números, resolver problemas y comprender conceptos geométricos, estadísticos y de medida.\n"
     ]
    },
    {
     "name": "stdout",
     "output_type": "stream",
     "text": [
      "\n",
      "Opciones:\n",
      "1. Sugerir Títulos\n",
      "2. Generar Imagen\n",
      "3. Sugerir Keywords\n",
      "0. Salir\n"
     ]
    },
    {
     "name": "stdout",
     "output_type": "stream",
     "text": [
      "Selecciona una opción:  2\n"
     ]
    },
    {
     "name": "stdout",
     "output_type": "stream",
     "text": [
      "\n",
      "URL de la imagen generada: https://oaidalleapiprodscus.blob.core.windows.net/private/org-yivzq2wiEkzevhsCKfViA3Tp/user-SjuAFMsTTqDoqrrtTNyFuSsm/img-2S6wOBMaLxCMYeuzJDxdUA1a.png?st=2024-10-07T12%3A07%3A21Z&se=2024-10-07T14%3A07%3A21Z&sp=r&sv=2024-08-04&sr=b&rscd=inline&rsct=image/png&skoid=d505667d-d6c1-4a0a-bac7-5c84a87759f8&sktid=a48cca56-e6da-484e-a814-9c849652bcb3&skt=2024-10-06T23%3A29%3A34Z&ske=2024-10-07T23%3A29%3A34Z&sks=b&skv=2024-08-04&sig=jI2N/Nv4Jml9yyHJOyvA34fKabS95d5oRLNC5PIpcCc%3D\n",
      "\n",
      "Opciones:\n",
      "1. Sugerir Títulos\n",
      "2. Generar Imagen\n",
      "3. Sugerir Keywords\n",
      "0. Salir\n"
     ]
    }
   ],
   "source": [
    "import openai\n",
    "\n",
    "# Configura tu clave API de OpenAI\n",
    "openai.api_key = ''\n",
    "\n",
    "# Función para sugerir títulos utilizando OpenAI\n",
    "def sugerir_titulos(texto):\n",
    "    response = openai.ChatCompletion.create(\n",
    "        model=\"gpt-3.5-turbo\",  # Puedes usar \"gpt-4\" si tienes acceso\n",
    "        messages=[\n",
    "            {\"role\": \"user\", \"content\": f\"Sugiere 3 títulos optimizados en SEO para el siguiente texto: {texto}\"}\n",
    "        ]\n",
    "    )\n",
    "    return [choice['message']['content'] for choice in response['choices']]\n",
    "\n",
    "# Imagén\n",
    "def generar_imagen(texto):\n",
    "    response = openai.Image.create(\n",
    "        prompt=texto,\n",
    "        n=1,\n",
    "        size=\"512x512\"  # Tamaño de la imagen\n",
    "    )\n",
    "    return response['data'][0]['url']\n",
    "\n",
    "# KeyWords\n",
    "def sugerir_keywords(texto):\n",
    "    response = openai.ChatCompletion.create(\n",
    "        model=\"gpt-3.5-turbo\",  # Puedes usar \"gpt-4\" si tienes acceso\n",
    "        messages=[\n",
    "            {\"role\": \"user\", \"content\": f\"Sugiere 5 palabras clave que formaran parte de mi url para el siguiente texto: {texto}\"}\n",
    "        ]\n",
    "    )\n",
    "    return [choice['message']['content'] for choice in response['choices']]\n",
    "\n",
    "# Listado de Funciones\n",
    "def asistente_redaccion():\n",
    "    texto = input(\"Ingresa el texto: \")\n",
    "    while True:\n",
    "        print(\"\\nOpciones:\")\n",
    "        print(\"1. Sugerir Títulos\")\n",
    "        print(\"2. Generar Imagen\")\n",
    "        print(\"3. Sugerir Keywords\")\n",
    "        print(\"0. Salir\")\n",
    "        \n",
    "        opcion = input(\"Selecciona una opción: \")\n",
    "        \n",
    "        if opcion == \"1\":\n",
    "            titulos = sugerir_titulos(texto)\n",
    "            print(\"\\nSugerencias de Títulos:\")\n",
    "            for titulo in titulos:\n",
    "                print(f\"- {titulo}\")\n",
    "        \n",
    "        elif opcion == \"2\":\n",
    "            imagen_url = generar_imagen(texto)\n",
    "            print(f\"\\nURL de la imagen generada: {imagen_url}\")\n",
    "        \n",
    "        elif opcion == \"3\":\n",
    "            keywords = sugerir_keywords(texto)\n",
    "            print(\"\\nSugerencias de Keywords:\")\n",
    "            print(\", \".join(keywords))\n",
    "        \n",
    "        elif opcion == \"0\":\n",
    "            print(\"Saliendo del asistente...\")\n",
    "            break\n",
    "        \n",
    "        else:\n",
    "            print(\"Opción no válida, intenta de nuevo.\")\n",
    "\n",
    "# Ejecutar el asistente\n",
    "asistente_redaccion()\n"
   ]
  },
  {
   "cell_type": "code",
   "execution_count": null,
   "id": "16d256db-c691-4a25-ba5d-131a9423b7bd",
   "metadata": {},
   "outputs": [],
   "source": []
  }
 ],
 "metadata": {
  "kernelspec": {
   "display_name": "Python 3 (ipykernel)",
   "language": "python",
   "name": "python3"
  },
  "language_info": {
   "codemirror_mode": {
    "name": "ipython",
    "version": 3
   },
   "file_extension": ".py",
   "mimetype": "text/x-python",
   "name": "python",
   "nbconvert_exporter": "python",
   "pygments_lexer": "ipython3",
   "version": "3.10.14"
  }
 },
 "nbformat": 4,
 "nbformat_minor": 5
}
