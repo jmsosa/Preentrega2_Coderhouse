{
 "cells": [
  {
   "cell_type": "code",
   "execution_count": null,
   "id": "0397da23-c16f-41f7-ab4d-e7a739463841",
   "metadata": {},
   "outputs": [
    {
     "name": "stdout",
     "output_type": "stream",
     "text": [
      "Ingresa el texto:  Los gremios de transporte lanzaron este martes un paro general de 24 horas para el 30 de octubre. La protesta fue fijada en un plenario en el Complejo Deportivo de la Federación de Peones de Taxis y afectaría a trenes, aviones, camiones y barcos. Por estas horas no se sabe si los colectivos también se sumarán a la medida.  El encuentro de la Mesa Nacional del Transporte contó con la presencia de organizaciones como Camioneros, pilotos, aeronavegantes, La Fraternidad, Dragado y Balizamiento y los marítimos del SOMU, más invitados como la Asociación Obrera de la Industria del Transporte Automotor (AOITA), de Córdoba, y el Sindicato de Apuntadores Marítimos (SEAMARA).\n"
     ]
    },
    {
     "name": "stdout",
     "output_type": "stream",
     "text": [
      "\n",
      "Opciones:\n",
      "1. Sugerir Títulos\n",
      "2. Generar Imagen\n",
      "3. Sugerir Keywords\n",
      "0. Salir\n"
     ]
    },
    {
     "name": "stdout",
     "output_type": "stream",
     "text": [
      "Selecciona una opción:  1\n"
     ]
    },
    {
     "name": "stdout",
     "output_type": "stream",
     "text": [
      "\n",
      "Sugerencias de Títulos:\n",
      " 1. Paro general de transporte: Los gremios lanzan medida para el 30 de octubre\n",
      "2. Protesta en el transporte: Gremios anuncian paro de 24 horas para el 30 de octubre\n",
      "3. Consecuencias del paro de transporte: Gremios afectarán trenes, aviones, camiones y barcos el 30 de octubre\n",
      "\n",
      "Opciones:\n",
      "1. Sugerir Títulos\n",
      "2. Generar Imagen\n",
      "3. Sugerir Keywords\n",
      "0. Salir\n"
     ]
    }
   ],
   "source": [
    "import openai\n",
    "\n",
    "# Configura tu clave API de OpenAI\n",
    "openai.api_key = ''\n",
    "\n",
    "# Función para sugerir títulos utilizando OpenAI\n",
    "def sugerir_titulos(texto):\n",
    "    response = openai.ChatCompletion.create(\n",
    "        model=\"gpt-3.5-turbo\",  # Puedes usar \"gpt-4\" si tienes acceso\n",
    "        messages=[\n",
    "            {\"role\": \"user\", \"content\": f\"Sugiere 3 títulos optimizados en SEO para el siguiente texto: {texto}\"}\n",
    "        ]\n",
    "    )\n",
    "    return [choice['message']['content'] for choice in response['choices']]\n",
    "\n",
    "# Imagén\n",
    "def generar_imagen(texto):\n",
    "    response = openai.Image.create(\n",
    "        prompt=texto,\n",
    "        n=1,\n",
    "        size=\"512x512\"  # Tamaño de la imagen\n",
    "    )\n",
    "    return response['data'][0]['url']\n",
    "\n",
    "# KeyWords\n",
    "def sugerir_keywords(texto):\n",
    "    response = openai.ChatCompletion.create(\n",
    "        model=\"gpt-3.5-turbo\",  # Puedes usar \"gpt-4\" si tienes acceso\n",
    "        messages=[\n",
    "            {\"role\": \"user\", \"content\": f\"Sugiere 5 palabras clave que formaran parte de mi url para el siguiente texto: {texto}\"}\n",
    "        ]\n",
    "    )\n",
    "    return [choice['message']['content'] for choice in response['choices']]\n",
    "\n",
    "# Listado de Funciones\n",
    "def asistente_redaccion():\n",
    "    texto = input(\"Ingresa el texto: \")\n",
    "    while not texto.strip(): \n",
    "        texto = input(\"Recuerde ingresar el texto: \")\n",
    "    while True:\n",
    "        print(\"\\nOpciones:\")\n",
    "        print(\"1. Sugerir Títulos\")\n",
    "        print(\"2. Generar Imagen\")\n",
    "        print(\"3. Sugerir Keywords\")\n",
    "        print(\"0. Salir\")\n",
    "        \n",
    "        opcion = input(\"Selecciona una opción: \")\n",
    "        \n",
    "        if opcion == \"1\":\n",
    "            titulos = sugerir_titulos(texto)\n",
    "            print(\"\\nSugerencias de Títulos:\")\n",
    "            for titulo in titulos:\n",
    "                print(f\"{titulo}\")\n",
    "        \n",
    "        elif opcion == \"2\":\n",
    "            imagen_url = generar_imagen(texto)\n",
    "            print(f\"\\nURL de la imagen generada: {imagen_url}\")\n",
    "        \n",
    "        elif opcion == \"3\":\n",
    "            keywords = sugerir_keywords(texto)\n",
    "            print(\"\\nSugerencias de Keywords:\")\n",
    "            print(\", \".join(keywords))\n",
    "        \n",
    "        elif opcion == \"0\":\n",
    "            print(\"Saliendo del Asistente...\")\n",
    "            break\n",
    "        \n",
    "        else:\n",
    "            print(\"Opción no válida, intenta de nuevo.\")\n",
    "\n",
    "# Ejecutar el asistente\n",
    "asistente_redaccion()\n"
   ]
  },
  {
   "cell_type": "code",
   "execution_count": null,
   "id": "16d256db-c691-4a25-ba5d-131a9423b7bd",
   "metadata": {},
   "outputs": [],
   "source": []
  }
 ],
 "metadata": {
  "kernelspec": {
   "display_name": "Python 3 (ipykernel)",
   "language": "python",
   "name": "python3"
  },
  "language_info": {
   "codemirror_mode": {
    "name": "ipython",
    "version": 3
   },
   "file_extension": ".py",
   "mimetype": "text/x-python",
   "name": "python",
   "nbconvert_exporter": "python",
   "pygments_lexer": "ipython3",
   "version": "3.10.14"
  }
 },
 "nbformat": 4,
 "nbformat_minor": 5
}
